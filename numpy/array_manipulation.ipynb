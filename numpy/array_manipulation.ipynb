{
 "cells": [
  {
   "cell_type": "markdown",
   "metadata": {},
   "source": [
    "# array manipulation routines"
   ]
  },
  {
   "cell_type": "code",
   "execution_count": null,
   "metadata": {},
   "outputs": [],
   "source": [
    "import numpy as np"
   ]
  },
  {
   "cell_type": "code",
   "execution_count": null,
   "metadata": {},
   "outputs": [],
   "source": [
    "# ine dim\n",
    "x = np.arange(10)\n",
    "print(x)"
   ]
  },
  {
   "cell_type": "code",
   "execution_count": null,
   "metadata": {},
   "outputs": [],
   "source": [
    "# reshaping array\n",
    "y = x.reshape((5, 2))\n",
    "print(y)"
   ]
  },
  {
   "cell_type": "code",
   "execution_count": null,
   "metadata": {},
   "outputs": [],
   "source": [
    "# two dim\n",
    "x = np.array([[0, 1, 2], [3, 4, 5]], dtype = np.uint8)\n",
    "print(x)"
   ]
  },
  {
   "cell_type": "code",
   "execution_count": null,
   "metadata": {},
   "outputs": [],
   "source": [
    "# reshaping two dim arrays\n",
    "y = np.reshape(x, 6)\n",
    "print(\"y = \", y)\n",
    "\n",
    "# or ravel function can be used\n",
    "z = x.ravel()\n",
    "print(\"z = \", z)\n",
    "\n",
    "# or we can use flatten\n",
    "w = x.flatten()   # row wise, by default 'C'\n",
    "p = x.flatten('F')  # column wise\n",
    "print(\"w = \", w)\n",
    "print(\"p = \", p)"
   ]
  },
  {
   "cell_type": "code",
   "execution_count": null,
   "metadata": {},
   "outputs": [],
   "source": [
    "# joining two arrays\n",
    "x = np.array([1, 2, 3])\n",
    "y = np.array([4, 5, 6])\n",
    "\n",
    "# defualt, vertical stack, axis = 0\n",
    "z = np.stack((x, y))\n",
    "print(\"stack = \\n\", z)\n",
    "\n",
    "p = np.stack((x, y), axis = 1)\n",
    "print(\"stack = \\n\", p)\n",
    "\n",
    "# horizontal stack\n",
    "h = np.hstack((x, y))\n",
    "print(\"horizontal stack = \", h)\n",
    "\n",
    "# depth stack\n",
    "d = np.dstack((x, y))\n",
    "print(\"depth stack = \\n\", d)"
   ]
  },
  {
   "cell_type": "code",
   "execution_count": null,
   "metadata": {},
   "outputs": [],
   "source": [
    "# split\n",
    "x = np.arange(6)\n",
    "a,b,c = np.split(x, 3)\n",
    "print(a, b, c)"
   ]
  },
  {
   "cell_type": "code",
   "execution_count": null,
   "metadata": {},
   "outputs": [],
   "source": [
    "# height split\n",
    "x = np.random.rand(3, 3, 3)\n",
    "print(x)\n",
    "\n",
    "print()\n",
    "p, q, r = np.hsplit(x, 3)\n",
    "print(\"p = \\n\", p)\n",
    "print(\"q = \\n\", q)\n",
    "print(\"r = \\n\", r)"
   ]
  },
  {
   "cell_type": "code",
   "execution_count": null,
   "metadata": {},
   "outputs": [],
   "source": [
    "# vertical split\n",
    "\n",
    "p, q, r = np.vsplit(x, 3)\n",
    "print(\"p = \\n\", p)\n",
    "print(\"q = \\n\", q)\n",
    "print(\"r = \\n\", r)"
   ]
  },
  {
   "cell_type": "code",
   "execution_count": null,
   "metadata": {},
   "outputs": [],
   "source": [
    "# depth split\n",
    "\n",
    "p, q, r = np.dsplit(x, 3)\n",
    "print(\"p = \\n\", p)\n",
    "print(\"q = \\n\", q)\n",
    "print(\"r = \\n\", r)"
   ]
  },
  {
   "cell_type": "code",
   "execution_count": null,
   "metadata": {},
   "outputs": [],
   "source": [
    "# flip\n",
    "x = np.arange(16).reshape(4, 4)\n",
    "print(x)"
   ]
  },
  {
   "cell_type": "code",
   "execution_count": null,
   "metadata": {},
   "outputs": [],
   "source": [
    "y = np.flip(x, axis = -1)\n",
    "print(y)"
   ]
  },
  {
   "cell_type": "code",
   "execution_count": null,
   "metadata": {},
   "outputs": [],
   "source": [
    "y = np.flip(x, axis = 0)\n",
    "print(y)"
   ]
  },
  {
   "cell_type": "code",
   "execution_count": null,
   "metadata": {},
   "outputs": [],
   "source": [
    "# flip up down or axis = 0\n",
    "y = np.flipud(x)\n",
    "print(y)"
   ]
  },
  {
   "cell_type": "code",
   "execution_count": null,
   "metadata": {},
   "outputs": [],
   "source": [
    "# flip left right or axis = -1\n",
    "y = np.fliplr(x)\n",
    "print(y)"
   ]
  },
  {
   "cell_type": "code",
   "execution_count": null,
   "metadata": {},
   "outputs": [],
   "source": [
    "# roll\n",
    "y = np.roll(x, 6)   # rolled by 6 elements\n",
    "print(y)"
   ]
  },
  {
   "cell_type": "code",
   "execution_count": null,
   "metadata": {},
   "outputs": [],
   "source": [
    "# rotation\n",
    "y = np.rot90(x)\n",
    "print(y)"
   ]
  },
  {
   "cell_type": "code",
   "execution_count": null,
   "metadata": {},
   "outputs": [],
   "source": []
  }
 ],
 "metadata": {
  "kernelspec": {
   "display_name": "Python 3",
   "language": "python",
   "name": "python3"
  },
  "language_info": {
   "codemirror_mode": {
    "name": "ipython",
    "version": 3
   },
   "file_extension": ".py",
   "mimetype": "text/x-python",
   "name": "python",
   "nbconvert_exporter": "python",
   "pygments_lexer": "ipython3",
   "version": "3.7.3"
  }
 },
 "nbformat": 4,
 "nbformat_minor": 2
}
