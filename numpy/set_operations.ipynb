{
 "cells": [
  {
   "cell_type": "markdown",
   "metadata": {},
   "source": [
    "# set operations"
   ]
  },
  {
   "cell_type": "code",
   "execution_count": null,
   "metadata": {},
   "outputs": [],
   "source": [
    "import numpy as np"
   ]
  },
  {
   "cell_type": "code",
   "execution_count": null,
   "metadata": {},
   "outputs": [],
   "source": [
    "# unique elements\n",
    "\n",
    "# one dim\n",
    "x = np.array([1, 3, 6, 1, 4, 3, 5, 2, 2, 6])\n",
    "print(np.unique(x))\n",
    "\n",
    "# multi dim\n",
    "x = np.array([[1, 3, 2], [4, 3, 2], [5, 1, 6]])\n",
    "print(np.unique(x))"
   ]
  },
  {
   "cell_type": "code",
   "execution_count": null,
   "metadata": {},
   "outputs": [],
   "source": [
    "# check if elements of one are present in other\n",
    "a = np.array([1, 2, 3, 4, 5])\n",
    "b = np.array([2, 3])\n",
    "print(np.in1d(a, b))"
   ]
  },
  {
   "cell_type": "code",
   "execution_count": null,
   "metadata": {},
   "outputs": [],
   "source": [
    "a = np.array([0, 1, 2, 3])\n",
    "b = np.array([1, 2, 3, 4])\n",
    "\n",
    "# intersection\n",
    "print(\"intersection = \", np.intersect1d(a, b))\n",
    "\n",
    "# difference\n",
    "print(\"difference = \", np.setdiff1d(a, b))\n",
    "\n",
    "# union\n",
    "print(\"union = \", np.union1d(a, b))\n",
    "\n",
    "# xor\n",
    "print(\"exclusive or = \", np.setxor1d(a, b))"
   ]
  },
  {
   "cell_type": "code",
   "execution_count": null,
   "metadata": {},
   "outputs": [],
   "source": []
  }
 ],
 "metadata": {
  "kernelspec": {
   "display_name": "Python 3",
   "language": "python",
   "name": "python3"
  },
  "language_info": {
   "codemirror_mode": {
    "name": "ipython",
    "version": 3
   },
   "file_extension": ".py",
   "mimetype": "text/x-python",
   "name": "python",
   "nbconvert_exporter": "python",
   "pygments_lexer": "ipython3",
   "version": "3.7.3"
  }
 },
 "nbformat": 4,
 "nbformat_minor": 2
}
