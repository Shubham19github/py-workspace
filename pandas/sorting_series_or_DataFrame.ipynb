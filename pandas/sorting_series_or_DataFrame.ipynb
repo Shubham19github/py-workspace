{
 "cells": [
  {
   "cell_type": "markdown",
   "metadata": {},
   "source": [
    "## How to sort a pandas series or DataFrame"
   ]
  },
  {
   "cell_type": "code",
   "execution_count": null,
   "metadata": {},
   "outputs": [],
   "source": [
    "import pandas as pd"
   ]
  },
  {
   "cell_type": "code",
   "execution_count": null,
   "metadata": {},
   "outputs": [],
   "source": [
    "movies = pd.read_csv('http://bit.ly/imdbratings')\n",
    "movies.head()"
   ]
  },
  {
   "cell_type": "code",
   "execution_count": null,
   "metadata": {},
   "outputs": [],
   "source": [
    "# sorting a series, returns ascending by default\n",
    "# it don't affect underline data, we can change the original series by providing 'inplace=True'\n",
    "\n",
    "# dot notation\n",
    "# movies.title.sort_values()\n",
    "\n",
    "# bracket notation, also changing it to sort by descending\n",
    "movies['title'].sort_values(ascending=False)"
   ]
  },
  {
   "cell_type": "code",
   "execution_count": null,
   "metadata": {},
   "outputs": [],
   "source": [
    "# sorting a DataFrame by a series\n",
    "# similar to sorting by series, it does not change underline data\n",
    "\n",
    "movies.sort_values('duration', ascending=False)"
   ]
  },
  {
   "cell_type": "code",
   "execution_count": null,
   "metadata": {},
   "outputs": [],
   "source": [
    "# sorting DataFrame by multiple columns\n",
    "# sorted in order of columns provided\n",
    "\n",
    "movies.sort_values(['content_rating', 'duration'])"
   ]
  },
  {
   "cell_type": "code",
   "execution_count": null,
   "metadata": {},
   "outputs": [],
   "source": [
    "# passing ascending or descending for columns\n",
    "\n",
    "# sorts content rating first in ascending order then by duration with descending order\n",
    "# so we will get movies with 'APPROVED' and longest duration on top\n",
    "movies.sort_values(['content_rating', 'duration'], ascending=[True, False])"
   ]
  },
  {
   "cell_type": "code",
   "execution_count": null,
   "metadata": {},
   "outputs": [],
   "source": []
  }
 ],
 "metadata": {
  "kernelspec": {
   "display_name": "Python 3",
   "language": "python",
   "name": "python3"
  },
  "language_info": {
   "codemirror_mode": {
    "name": "ipython",
    "version": 3
   },
   "file_extension": ".py",
   "mimetype": "text/x-python",
   "name": "python",
   "nbconvert_exporter": "python",
   "pygments_lexer": "ipython3",
   "version": "3.7.3"
  }
 },
 "nbformat": 4,
 "nbformat_minor": 2
}
